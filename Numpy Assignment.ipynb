{
 "cells": [
  {
   "cell_type": "markdown",
   "id": "a6eec796",
   "metadata": {},
   "source": [
    "Q1) Write a function so that the columns of the output matrix are powers of the input vector. \n",
    "The order of the powers is determined by the increasing boolean argument. Specifically, when  increasing is False, the i-th output column is the input vector raised element-wise to the power  of N - i - 1. \n",
    "HINT: Such a matrix with a geometric progression in each row is named for Alexandre Theophile Vandermonde. \n"
   ]
  },
  {
   "cell_type": "code",
   "execution_count": 2,
   "id": "233cc831",
   "metadata": {},
   "outputs": [],
   "source": [
    "import numpy as np"
   ]
  },
  {
   "cell_type": "code",
   "execution_count": 25,
   "id": "0b65e516",
   "metadata": {},
   "outputs": [],
   "source": [
    "def alexandre(input_matrix , n , increasing = False):\n",
    "    if increasing == True:\n",
    "        output_matrix = np.matrix([x**i for x in input_matrix for i in range(n)]).reshape(input_matrix.size , n)\n",
    "    else:\n",
    "        output_matrix = np.matrix([x**(n-i-1) for x in input_matrix for i in range(n)]).reshape(input_matrix.size , n)\n",
    "    return output_matrix"
   ]
  },
  {
   "cell_type": "code",
   "execution_count": 26,
   "id": "a0f9bee9",
   "metadata": {},
   "outputs": [],
   "source": [
    "input_matrix = np.array([1,2,3])\n",
    "n = 3"
   ]
  },
  {
   "cell_type": "code",
   "execution_count": 27,
   "id": "0a7b8a4b",
   "metadata": {},
   "outputs": [],
   "source": [
    "output1 = alexandre(input_matrix , n , True)"
   ]
  },
  {
   "cell_type": "code",
   "execution_count": 28,
   "id": "c509b1db",
   "metadata": {},
   "outputs": [
    {
     "data": {
      "text/plain": [
       "matrix([[1, 1, 1],\n",
       "        [1, 2, 4],\n",
       "        [1, 3, 9]])"
      ]
     },
     "execution_count": 28,
     "metadata": {},
     "output_type": "execute_result"
    }
   ],
   "source": [
    "output1"
   ]
  },
  {
   "cell_type": "code",
   "execution_count": 16,
   "id": "f4c50c31",
   "metadata": {},
   "outputs": [],
   "source": [
    "output2 = alexandre(input_matrix , n , False)"
   ]
  },
  {
   "cell_type": "code",
   "execution_count": 17,
   "id": "7092cda1",
   "metadata": {},
   "outputs": [
    {
     "data": {
      "text/plain": [
       "matrix([[1, 1, 1],\n",
       "        [4, 2, 1],\n",
       "        [9, 3, 1]])"
      ]
     },
     "execution_count": 17,
     "metadata": {},
     "output_type": "execute_result"
    }
   ],
   "source": [
    "output2"
   ]
  },
  {
   "cell_type": "code",
   "execution_count": null,
   "id": "35cca015",
   "metadata": {},
   "outputs": [],
   "source": []
  },
  {
   "cell_type": "code",
   "execution_count": null,
   "id": "71c5a1d3",
   "metadata": {},
   "outputs": [],
   "source": []
  },
  {
   "cell_type": "markdown",
   "id": "7f437f36",
   "metadata": {},
   "source": [
    "Q2) Moving Average"
   ]
  },
  {
   "cell_type": "code",
   "execution_count": 34,
   "id": "8deabdd9",
   "metadata": {},
   "outputs": [],
   "source": [
    "l1 = [3, 5, 7, 2, 8, 10, 11, 65, 72, 81, 99, 100, 150]"
   ]
  },
  {
   "cell_type": "code",
   "execution_count": 51,
   "id": "459e1af4",
   "metadata": {},
   "outputs": [],
   "source": [
    "def moving_average(input_value , n):\n",
    "    index = 1\n",
    "    output = np.convolve(input_value , np.ones(n) , 'valid') / n\n",
    "    for i in output:\n",
    "        print(\"y{0} = {1:.2f}\".format(index , i))\n",
    "        index +=1"
   ]
  },
  {
   "cell_type": "code",
   "execution_count": 52,
   "id": "65605114",
   "metadata": {},
   "outputs": [
    {
     "name": "stdout",
     "output_type": "stream",
     "text": [
      "y1 = 5.00\n",
      "y2 = 4.67\n",
      "y3 = 5.67\n",
      "y4 = 6.67\n",
      "y5 = 9.67\n",
      "y6 = 28.67\n",
      "y7 = 49.33\n",
      "y8 = 72.67\n",
      "y9 = 84.00\n",
      "y10 = 93.33\n",
      "y11 = 116.33\n"
     ]
    }
   ],
   "source": [
    "moving_average(l1 , 3)"
   ]
  },
  {
   "cell_type": "code",
   "execution_count": null,
   "id": "6fa847fe",
   "metadata": {},
   "outputs": [],
   "source": []
  }
 ],
 "metadata": {
  "kernelspec": {
   "display_name": "Python 3",
   "language": "python",
   "name": "python3"
  },
  "language_info": {
   "codemirror_mode": {
    "name": "ipython",
    "version": 3
   },
   "file_extension": ".py",
   "mimetype": "text/x-python",
   "name": "python",
   "nbconvert_exporter": "python",
   "pygments_lexer": "ipython3",
   "version": "3.8.8"
  }
 },
 "nbformat": 4,
 "nbformat_minor": 5
}
