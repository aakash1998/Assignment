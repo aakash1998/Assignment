{
 "cells": [
  {
   "cell_type": "markdown",
   "id": "ec25d081",
   "metadata": {},
   "source": [
    "# Implementing my own myreduce function"
   ]
  },
  {
   "cell_type": "code",
   "execution_count": 1,
   "id": "e42d1d9c",
   "metadata": {},
   "outputs": [],
   "source": [
    "lst = [1,2,3,4,5,6,7,8,9,10]\n",
    "\n",
    "def myreduce(lst):\n",
    "    n = len(lst)\n",
    "    a = 0\n",
    "    for i in range(0 , n ):\n",
    "        a += lst[i]\n",
    "    return a"
   ]
  },
  {
   "cell_type": "code",
   "execution_count": 3,
   "id": "824499fe",
   "metadata": {},
   "outputs": [
    {
     "name": "stdout",
     "output_type": "stream",
     "text": [
      "The sum of the numbers in the list is 55\n"
     ]
    }
   ],
   "source": [
    "print(f\"The sum of the numbers in the list is {myreduce(lst)}\")"
   ]
  },
  {
   "cell_type": "markdown",
   "id": "0493bf3b",
   "metadata": {},
   "source": [
    "# Implementing my own myfilter function"
   ]
  },
  {
   "cell_type": "code",
   "execution_count": 8,
   "id": "fc66eac1",
   "metadata": {},
   "outputs": [],
   "source": [
    "def even(x):\n",
    "    if (x%2==0):\n",
    "        return True\n",
    "    else:\n",
    "        return False\n",
    "\n",
    "    \n",
    "def myfilter(fun , lst):\n",
    "    n = len(lst)\n",
    "    iseven = []\n",
    "    for i in range(0 , n):\n",
    "        if (fun(lst[i]) == True):\n",
    "            iseven.append(lst[i])\n",
    "    return iseven"
   ]
  },
  {
   "cell_type": "code",
   "execution_count": 9,
   "id": "fc10d77f",
   "metadata": {},
   "outputs": [
    {
     "data": {
      "text/plain": [
       "[234324, 2, 124, 432]"
      ]
     },
     "execution_count": 9,
     "metadata": {},
     "output_type": "execute_result"
    }
   ],
   "source": [
    "lst = [1,23,234324,2,124 , 253,53,432]\n",
    "myfilter(even , lst)"
   ]
  },
  {
   "cell_type": "markdown",
   "id": "0836b8e1",
   "metadata": {},
   "source": [
    "# Implementing list comprehension"
   ]
  },
  {
   "cell_type": "markdown",
   "id": "796a7c4c",
   "metadata": {},
   "source": [
    "#### 1) ['x', 'xx', 'xxx', 'xxxx', 'y', 'yy', 'yyy', 'yyyy', 'z', 'zz', 'zzz', 'zzzz']"
   ]
  },
  {
   "cell_type": "code",
   "execution_count": 18,
   "id": "093ccf91",
   "metadata": {},
   "outputs": [
    {
     "data": {
      "text/plain": [
       "['x', 'xx', 'xxx', 'xxxx', 'y', 'yy', 'yyy', 'yyyy', 'z', 'zz', 'zzz', 'zzzz']"
      ]
     },
     "execution_count": 18,
     "metadata": {},
     "output_type": "execute_result"
    }
   ],
   "source": [
    "a = [i*p for i in ['x' , 'y' , 'z'] for p in range(1,5)]\n",
    "a"
   ]
  },
  {
   "cell_type": "markdown",
   "id": "74b44dc2",
   "metadata": {},
   "source": [
    "#### 2) ['x', 'y', 'z', 'xx', 'yy', 'zz', 'xxx', 'yyy', 'zzz', 'xxxx', 'yyyy', 'zzzz']"
   ]
  },
  {
   "cell_type": "code",
   "execution_count": 20,
   "id": "902a11aa",
   "metadata": {},
   "outputs": [
    {
     "data": {
      "text/plain": [
       "['x', 'y', 'z', 'xx', 'yy', 'zz', 'xxx', 'yyy', 'zzz', 'xxxx', 'yyyy', 'zzzz']"
      ]
     },
     "execution_count": 20,
     "metadata": {},
     "output_type": "execute_result"
    }
   ],
   "source": [
    "a = [i*p for p in range(1,5) for i in ['x' , 'y' , 'z']]\n",
    "a"
   ]
  },
  {
   "cell_type": "markdown",
   "id": "fac1c8b0",
   "metadata": {},
   "source": [
    "#### 3) [[2], [3], [4], [3], [4], [5], [4], [5], [6]]"
   ]
  },
  {
   "cell_type": "code",
   "execution_count": 31,
   "id": "2e81d8b8",
   "metadata": {},
   "outputs": [],
   "source": [
    "a= [[i + j] for i in range(2,5) for j in range(3)]"
   ]
  },
  {
   "cell_type": "code",
   "execution_count": 33,
   "id": "9cc466ca",
   "metadata": {},
   "outputs": [
    {
     "data": {
      "text/plain": [
       "[[2], [3], [4], [3], [4], [5], [4], [5], [6]]"
      ]
     },
     "execution_count": 33,
     "metadata": {},
     "output_type": "execute_result"
    }
   ],
   "source": [
    "a"
   ]
  },
  {
   "cell_type": "markdown",
   "id": "ab84dec2",
   "metadata": {},
   "source": [
    "#### 4) [[2, 3, 4, 5], [3, 4, 5, 6], [4, 5, 6, 7], [5, 6, 7, 8]]"
   ]
  },
  {
   "cell_type": "code",
   "execution_count": 52,
   "id": "00e5c454",
   "metadata": {},
   "outputs": [],
   "source": [
    "a = [[i+j for i in range(4)] for j in range(2,6)]"
   ]
  },
  {
   "cell_type": "code",
   "execution_count": 56,
   "id": "3aee1eea",
   "metadata": {},
   "outputs": [
    {
     "data": {
      "text/plain": [
       "[[2, 3, 4, 5], [3, 4, 5, 6], [4, 5, 6, 7], [5, 6, 7, 8]]"
      ]
     },
     "execution_count": 56,
     "metadata": {},
     "output_type": "execute_result"
    }
   ],
   "source": [
    "a"
   ]
  },
  {
   "cell_type": "markdown",
   "id": "675a934c",
   "metadata": {},
   "source": [
    "#### 5) [(1, 1), (2, 1), (3, 1), (1, 2), (2, 2), (3, 2), (1, 3), (2, 3), (3, 3)]"
   ]
  },
  {
   "cell_type": "code",
   "execution_count": 57,
   "id": "aaa239b7",
   "metadata": {},
   "outputs": [],
   "source": [
    "a = [(i,j) for j in range(1,4) for i in range(1,4)]"
   ]
  },
  {
   "cell_type": "code",
   "execution_count": 58,
   "id": "53e3bf33",
   "metadata": {},
   "outputs": [
    {
     "data": {
      "text/plain": [
       "[(1, 1), (2, 1), (3, 1), (1, 2), (2, 2), (3, 2), (1, 3), (2, 3), (3, 3)]"
      ]
     },
     "execution_count": 58,
     "metadata": {},
     "output_type": "execute_result"
    }
   ],
   "source": [
    "a"
   ]
  },
  {
   "cell_type": "code",
   "execution_count": null,
   "id": "2d334bcb",
   "metadata": {},
   "outputs": [],
   "source": []
  }
 ],
 "metadata": {
  "kernelspec": {
   "display_name": "Python 3",
   "language": "python",
   "name": "python3"
  },
  "language_info": {
   "codemirror_mode": {
    "name": "ipython",
    "version": 3
   },
   "file_extension": ".py",
   "mimetype": "text/x-python",
   "name": "python",
   "nbconvert_exporter": "python",
   "pygments_lexer": "ipython3",
   "version": "3.8.8"
  }
 },
 "nbformat": 4,
 "nbformat_minor": 5
}
