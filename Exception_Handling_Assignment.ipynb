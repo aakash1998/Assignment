{
  "nbformat": 4,
  "nbformat_minor": 0,
  "metadata": {
    "colab": {
      "name": "Exception Handling Assignment.ipynb",
      "provenance": []
    },
    "kernelspec": {
      "name": "python3",
      "display_name": "Python 3"
    },
    "language_info": {
      "name": "python"
    }
  },
  "cells": [
    {
      "cell_type": "code",
      "metadata": {
        "id": "t1090i8TMSSy"
      },
      "source": [
        "def compute():\n",
        "  a = 5\n",
        "  b = 0\n",
        "  try:\n",
        "    c = a/b\n",
        "    print(c)\n",
        "  except Exception as e:\n",
        "    print(\"The computation is invalid, it has\" ,e ,\"error\")"
      ],
      "execution_count": null,
      "outputs": []
    },
    {
      "cell_type": "code",
      "metadata": {
        "colab": {
          "base_uri": "https://localhost:8080/"
        },
        "id": "AikUi6uIM7qF",
        "outputId": "e0170b42-a3ad-4b00-c0f8-11bec3f3c118"
      },
      "source": [
        "compute()"
      ],
      "execution_count": null,
      "outputs": [
        {
          "output_type": "stream",
          "text": [
            "The computation is invalid, it has division by zero error\n"
          ],
          "name": "stdout"
        }
      ]
    },
    {
      "cell_type": "code",
      "metadata": {
        "colab": {
          "base_uri": "https://localhost:8080/"
        },
        "id": "afTvnzauM9fT",
        "outputId": "b801a188-0ec2-4223-86f3-281c2dc86b17"
      },
      "source": [
        "subject = ['Americans' , 'Indians']\n",
        "verbs = ['play' , 'watch']\n",
        "objects = ['cricket' , 'baseball']\n",
        "\n",
        "for i in range(0 , len(subject)):\n",
        "  a = subject[i]\n",
        "  for j in range(0 , len(verbs)):\n",
        "    b = a + \" \" + verbs[j]\n",
        "    for k in range(0 , len(objects)):\n",
        "      c = b + \" \" + objects[k]\n",
        "      print(c)\n",
        "    "
      ],
      "execution_count": null,
      "outputs": [
        {
          "output_type": "stream",
          "text": [
            "Americans play cricket\n",
            "Americans play baseball\n",
            "Americans watch cricket\n",
            "Americans watch baseball\n",
            "Indians play cricket\n",
            "Indians play baseball\n",
            "Indians watch cricket\n",
            "Indians watch baseball\n"
          ],
          "name": "stdout"
        }
      ]
    },
    {
      "cell_type": "code",
      "metadata": {
        "id": "Z5c2jwyqOINE"
      },
      "source": [
        ""
      ],
      "execution_count": null,
      "outputs": []
    }
  ]
}